{
 "cells": [
  {
   "cell_type": "code",
   "execution_count": 1,
   "metadata": {},
   "outputs": [],
   "source": [
    "%load_ext autoreload\n",
    "%autoreload 2"
   ]
  },
  {
   "cell_type": "markdown",
   "metadata": {},
   "source": [
    "# Scraping Task\n",
    "Imagine we need to scrape all of the navigation links from this portfolio website HTML.  We want to print out a list of them, represented as strings."
   ]
  },
  {
   "cell_type": "code",
   "execution_count": 2,
   "metadata": {},
   "outputs": [],
   "source": [
    "from scrape_portfolio import get_portfolio_html_text"
   ]
  },
  {
   "cell_type": "code",
   "execution_count": 3,
   "metadata": {},
   "outputs": [
    {
     "data": {
      "text/plain": [
       "'<!DOCTYPE html>\\n<html lang=\"en\">\\n\\n<head>\\n\\n  <meta charset=\"utf-8\">\\n  <meta name=\"viewport\" content=\"width=device-width, initial-scale=1, shrink-to-fit=no\">\\n  <meta name=\"description\" content=\"\">\\n  <meta name=\"author\" content=\"\">\\n\\n  <title>Resume - Start Bootstrap Theme</title>\\n\\n  <!-- Bootstrap core CSS -->\\n  <link href=\"vendor/bootstrap/css/bootstrap.min.css\" rel=\"stylesheet\">\\n\\n  <!-- Custom fonts for this template -->\\n  <link href=\"https://fonts.googleapis.com/css?family=Saira+Extra+Condensed:500,700\" rel=\"stylesheet\">\\n  <link href=\"https://fonts.googleapis.com/css?family=Muli:400,400i,800,800i\" rel=\"stylesheet\">\\n  <link href=\"vendor/fontawesome-free/css/all.min.css\" rel=\"stylesheet\">\\n\\n  <!-- Custom styles for this template -->\\n  <link href=\"css/resume.min.css\" rel=\"stylesheet\">\\n\\n</head>\\n\\n<body id=\"page-top\">\\n\\n  <nav class=\"navbar navbar-expand-lg navbar-dark bg-primary fixed-top\" id=\"sideNav\">\\n    <a class=\"navbar-brand js-scroll-trigger\" href=\"#page-top\">\\n      <span class=\"d-block d-lg-none\">Clarence Taylor</span>\\n      <span class=\"d-none d-lg-block\">\\n        <img class=\"img-fluid img-profile rounded-circle mx-auto mb-2\" src=\"img/profile.jpg\" alt=\"\">\\n      </span>\\n    </a>\\n    <button class=\"navbar-toggler\" type=\"button\" data-toggle=\"collapse\" data-target=\"#navbarSupportedContent\"\\n      aria-controls=\"navbarSupportedContent\" aria-expanded=\"false\" aria-label=\"Toggle navigation\">\\n      <span class=\"navbar-toggler-icon\"></span>\\n    </button>\\n    <div class=\"collapse navbar-collapse\" id=\"navbarSupportedContent\">\\n      <ul class=\"navbar-nav\">\\n        <li class=\"nav-item\">\\n          <a class=\"nav-link js-scroll-trigger\" href=\"#about\">About</a>\\n        </li>\\n        <li class=\"nav-item\">\\n          <a class=\"nav-link js-scroll-trigger\" href=\"#experience\">Experience</a>\\n        </li>\\n        <li class=\"nav-item\">\\n          <a class=\"nav-link js-scroll-trigger\" href=\"#education\">Education</a>\\n        </li>\\n        <li class=\"nav-item\">\\n          <a class=\"nav-link js-scroll-trigger\" href=\"#skills\">Skills</a>\\n        </li>\\n        <li class=\"nav-item\">\\n          <a class=\"nav-link js-scroll-trigger\" href=\"#interests\">Interests</a>\\n        </li>\\n        <li class=\"nav-item\">\\n          <a class=\"nav-link js-scroll-trigger\" href=\"#awards\">Awards</a>\\n        </li>\\n      </ul>\\n    </div>\\n  </nav>\\n\\n  <div class=\"container-fluid p-0\">\\n\\n    <section class=\"resume-section p-3 p-lg-5 d-flex align-items-center\" id=\"about\">\\n      <div class=\"w-100\">\\n        <h1 class=\"mb-0\">Clarence\\n          <span class=\"text-primary\">Taylor</span>\\n        </h1>\\n        <div class=\"subheading mb-5\">3542 Berry Street · Cheyenne Wells, CO 80810 · (317) 585-8468 ·\\n          <a href=\"mailto:name@email.com\">name@email.com</a>\\n        </div>\\n        <p class=\"lead mb-5\">I am experienced in leveraging agile frameworks to provide a robust synopsis for high level\\n          overviews. Iterative approaches to corporate strategy foster collaborative thinking to further the overall\\n          value proposition.</p>\\n        <div class=\"social-icons\">\\n          <a href=\"#\">\\n            <i class=\"fab fa-linkedin-in\"></i>\\n          </a>\\n          <a href=\"#\">\\n            <i class=\"fab fa-github\"></i>\\n          </a>\\n          <a href=\"#\">\\n            <i class=\"fab fa-twitter\"></i>\\n          </a>\\n          <a href=\"#\">\\n            <i class=\"fab fa-facebook-f\"></i>\\n          </a>\\n        </div>\\n      </div>\\n    </section>\\n\\n    <hr class=\"m-0\">\\n\\n    <section class=\"resume-section p-3 p-lg-5 d-flex justify-content-center\" id=\"experience\">\\n      <div class=\"w-100\">\\n        <h2 class=\"mb-5\">Experience</h2>\\n\\n        <div class=\"resume-item d-flex flex-column flex-md-row justify-content-between mb-5\">\\n          <div class=\"resume-content\">\\n            <h3 class=\"mb-0\">Senior Web Developer</h3>\\n            <div class=\"subheading mb-3\">Intelitec Solutions</div>\\n            <p>Bring to the table win-win survival strategies to ensure proactive domination. At the end of the day,\\n              going forward, a new normal that has evolved from generation X is on the runway heading towards a\\n              streamlined cloud solution. User generated content in real-time will have multiple touchpoints for\\n              offshoring.</p>\\n          </div>\\n          <div class=\"resume-date text-md-right\">\\n            <span class=\"text-primary\">March 2013 - Present</span>\\n          </div>\\n        </div>\\n\\n        <div class=\"resume-item d-flex flex-column flex-md-row justify-content-between mb-5\">\\n          <div class=\"resume-content\">\\n            <h3 class=\"mb-0\">Web Developer</h3>\\n            <div class=\"subheading mb-3\">Intelitec Solutions</div>\\n            <p>Capitalize on low hanging fruit to identify a ballpark value added activity to beta test. Override the\\n              digital divide with additional clickthroughs from DevOps. Nanotechnology immersion along the information\\n              highway will close the loop on focusing solely on the bottom line.</p>\\n          </div>\\n          <div class=\"resume-date text-md-right\">\\n            <span class=\"text-primary\">December 2011 - March 2013</span>\\n          </div>\\n        </div>\\n\\n        <div class=\"resume-item d-flex flex-column flex-md-row justify-content-between mb-5\">\\n          <div class=\"resume-content\">\\n            <h3 class=\"mb-0\">Junior Web Designer</h3>\\n            <div class=\"subheading mb-3\">Shout! Media Productions</div>\\n            <p>Podcasting operational change management inside of workflows to establish a framework. Taking seamless\\n              key performance indicators offline to maximise the long tail. Keeping your eye on the ball while\\n              performing a deep dive on the start-up mentality to derive convergence on cross-platform integration.</p>\\n          </div>\\n          <div class=\"resume-date text-md-right\">\\n            <span class=\"text-primary\">July 2010 - December 2011</span>\\n          </div>\\n        </div>\\n\\n        <div class=\"resume-item d-flex flex-column flex-md-row justify-content-between\">\\n          <div class=\"resume-content\">\\n            <h3 class=\"mb-0\">Web Design Intern</h3>\\n            <div class=\"subheading mb-3\">Shout! Media Productions</div>\\n            <p>Collaboratively administrate empowered markets via plug-and-play networks. Dynamically procrastinate B2C\\n              users after installed base benefits. Dramatically visualize customer directed convergence without\\n              revolutionary ROI.</p>\\n          </div>\\n          <div class=\"resume-date text-md-right\">\\n            <span class=\"text-primary\">September 2008 - June 2010</span>\\n          </div>\\n        </div>\\n\\n      </div>\\n\\n    </section>\\n\\n    <hr class=\"m-0\">\\n\\n    <section class=\"resume-section p-3 p-lg-5 d-flex align-items-center\" id=\"education\">\\n      <div class=\"w-100\">\\n        <h2 class=\"mb-5\">Education</h2>\\n\\n        <div class=\"resume-item d-flex flex-column flex-md-row justify-content-between mb-5\">\\n          <div class=\"resume-content\">\\n            <h3 class=\"mb-0\">University of Colorado Boulder</h3>\\n            <div class=\"subheading mb-3\">Bachelor of Science</div>\\n            <div>Computer Science - Web Development Track</div>\\n            <p>GPA: 3.23</p>\\n          </div>\\n          <div class=\"resume-date text-md-right\">\\n            <span class=\"text-primary\">August 2006 - May 2010</span>\\n          </div>\\n        </div>\\n\\n        <div class=\"resume-item d-flex flex-column flex-md-row justify-content-between\">\\n          <div class=\"resume-content\">\\n            <h3 class=\"mb-0\">James Buchanan High School</h3>\\n            <div class=\"subheading mb-3\">Technology Magnet Program</div>\\n            <p>GPA: 3.56</p>\\n          </div>\\n          <div class=\"resume-date text-md-right\">\\n            <span class=\"text-primary\">August 2002 - May 2006</span>\\n          </div>\\n        </div>\\n\\n      </div>\\n    </section>\\n\\n    <hr class=\"m-0\">\\n\\n    <section class=\"resume-section p-3 p-lg-5 d-flex align-items-center\" id=\"skills\">\\n      <div class=\"w-100\">\\n        <h2 class=\"mb-5\">Skills</h2>\\n\\n        <div class=\"subheading mb-3\">Programming Languages &amp; Tools</div>\\n        <ul class=\"list-inline dev-icons\">\\n          <li class=\"list-inline-item\">\\n            <i class=\"fab fa-html5\"></i>\\n          </li>\\n          <li class=\"list-inline-item\">\\n            <i class=\"fab fa-css3-alt\"></i>\\n          </li>\\n          <li class=\"list-inline-item\">\\n            <i class=\"fab fa-js-square\"></i>\\n          </li>\\n          <li class=\"list-inline-item\">\\n            <i class=\"fab fa-angular\"></i>\\n          </li>\\n          <li class=\"list-inline-item\">\\n            <i class=\"fab fa-react\"></i>\\n          </li>\\n          <li class=\"list-inline-item\">\\n            <i class=\"fab fa-node-js\"></i>\\n          </li>\\n          <li class=\"list-inline-item\">\\n            <i class=\"fab fa-sass\"></i>\\n          </li>\\n          <li class=\"list-inline-item\">\\n            <i class=\"fab fa-less\"></i>\\n          </li>\\n          <li class=\"list-inline-item\">\\n            <i class=\"fab fa-wordpress\"></i>\\n          </li>\\n          <li class=\"list-inline-item\">\\n            <i class=\"fab fa-gulp\"></i>\\n          </li>\\n          <li class=\"list-inline-item\">\\n            <i class=\"fab fa-grunt\"></i>\\n          </li>\\n          <li class=\"list-inline-item\">\\n            <i class=\"fab fa-npm\"></i>\\n          </li>\\n        </ul>\\n\\n        <div class=\"subheading mb-3\">Workflow</div>\\n        <ul class=\"fa-ul mb-0\">\\n          <li>\\n            <i class=\"fa-li fa fa-check\"></i>\\n            Mobile-First, Responsive Design</li>\\n          <li>\\n            <i class=\"fa-li fa fa-check\"></i>\\n            Cross Browser Testing &amp; Debugging</li>\\n          <li>\\n            <i class=\"fa-li fa fa-check\"></i>\\n            Cross Functional Teams</li>\\n          <li>\\n            <i class=\"fa-li fa fa-check\"></i>\\n            Agile Development &amp; Scrum</li>\\n        </ul>\\n      </div>\\n    </section>\\n\\n    <hr class=\"m-0\">\\n\\n    <section class=\"resume-section p-3 p-lg-5 d-flex align-items-center\" id=\"interests\">\\n      <div class=\"w-100\">\\n        <h2 class=\"mb-5\">Interests</h2>\\n        <p>Apart from being a web developer, I enjoy most of my time being outdoors. In the winter, I am an avid skier\\n          and novice ice climber. During the warmer months here in Colorado, I enjoy mountain biking, free climbing, and\\n          kayaking.</p>\\n        <p class=\"mb-0\">When forced indoors, I follow a number of sci-fi and fantasy genre movies and television shows,\\n          I am an aspiring chef, and I spend a large amount of my free time exploring the latest technology advancements\\n          in the front-end web development world.</p>\\n      </div>\\n    </section>\\n\\n    <hr class=\"m-0\">\\n\\n    <section class=\"resume-section p-3 p-lg-5 d-flex align-items-center\" id=\"awards\">\\n      <div class=\"w-100\">\\n        <h2 class=\"mb-5\">Awards &amp; Certifications</h2>\\n        <ul class=\"fa-ul mb-0\">\\n          <li>\\n            <i class=\"fa-li fa fa-trophy text-warning\"></i>\\n            Google Analytics Certified Developer</li>\\n          <li>\\n            <i class=\"fa-li fa fa-trophy text-warning\"></i>\\n            Mobile Web Specialist - Google Certification</li>\\n          <li>\\n            <i class=\"fa-li fa fa-trophy text-warning\"></i>\\n            1<sup>st</sup>\\n            Place - University of Colorado Boulder - Emerging Tech Competition 2009</li>\\n          <li>\\n            <i class=\"fa-li fa fa-trophy text-warning\"></i>\\n            1<sup>st</sup>\\n            Place - University of Colorado Boulder - Adobe Creative Jam 2008 (UI Design Category)</li>\\n          <li>\\n            <i class=\"fa-li fa fa-trophy text-warning\"></i>\\n            2<sup>nd</sup>\\n            Place - University of Colorado Boulder - Emerging Tech Competition 2008</li>\\n          <li>\\n            <i class=\"fa-li fa fa-trophy text-warning\"></i>\\n            1<sup>st</sup>\\n            Place - James Buchanan High School - Hackathon 2006</li>\\n          <li>\\n            <i class=\"fa-li fa fa-trophy text-warning\"></i>\\n            3<sup>rd</sup>\\n            Place - James Buchanan High School - Hackathon 2005</li>\\n        </ul>\\n      </div>\\n    </section>\\n\\n  </div>\\n\\n  <!-- Bootstrap core JavaScript -->\\n  <script src=\"vendor/jquery/jquery.min.js\"></script>\\n  <script src=\"vendor/bootstrap/js/bootstrap.bundle.min.js\"></script>\\n\\n  <!-- Plugin JavaScript -->\\n  <script src=\"vendor/jquery-easing/jquery.easing.min.js\"></script>\\n\\n  <!-- Custom scripts for this template -->\\n  <script src=\"js/resume.min.js\"></script>\\n\\n</body>\\n\\n</html>'"
      ]
     },
     "execution_count": 3,
     "metadata": {},
     "output_type": "execute_result"
    }
   ],
   "source": [
    "html_string = get_portfolio_html_text()\n",
    "html_string"
   ]
  },
  {
   "cell_type": "markdown",
   "metadata": {},
   "source": [
    "## The annoying way (don't do this)\n",
    "You could just treat the HTML as a big string, and split and slice it until you find the content you want"
   ]
  },
  {
   "cell_type": "code",
   "execution_count": 4,
   "metadata": {},
   "outputs": [],
   "source": [
    "# we notice that all of the navigation labels are immediately followed by \"</a>\"\n",
    "split_string = html_string.split(\"</a>\")"
   ]
  },
  {
   "cell_type": "code",
   "execution_count": 5,
   "metadata": {},
   "outputs": [],
   "source": [
    "# experimenting to find the beginning of the label.  Turns out it's\n",
    "# consistently \">\", then the label text\n",
    "greater_than_index = split_string[0].rfind(\">\")"
   ]
  },
  {
   "cell_type": "code",
   "execution_count": 6,
   "metadata": {},
   "outputs": [
    {
     "data": {
      "text/plain": [
       "1187"
      ]
     },
     "execution_count": 6,
     "metadata": {},
     "output_type": "execute_result"
    }
   ],
   "source": [
    "greater_than_index"
   ]
  },
  {
   "cell_type": "code",
   "execution_count": 7,
   "metadata": {},
   "outputs": [
    {
     "data": {
      "text/plain": [
       "'>\\n    '"
      ]
     },
     "execution_count": 7,
     "metadata": {},
     "output_type": "execute_result"
    }
   ],
   "source": [
    "# oh no, this selected something that we didn't want\n",
    "split_string[0][greater_than_index:]"
   ]
  },
  {
   "cell_type": "code",
   "execution_count": 8,
   "metadata": {},
   "outputs": [
    {
     "data": {
      "text/plain": [
       "'About'"
      ]
     },
     "execution_count": 8,
     "metadata": {},
     "output_type": "execute_result"
    }
   ],
   "source": [
    "# it worked for the 1-th index though\n",
    "greater_than_index = split_string[1].rfind(\">\")\n",
    "split_string[1][greater_than_index+1:]"
   ]
  },
  {
   "cell_type": "code",
   "execution_count": 9,
   "metadata": {},
   "outputs": [
    {
     "name": "stdout",
     "output_type": "stream",
     "text": [
      "'\\n    '\n",
      "'About'\n",
      "'Experience'\n",
      "'Education'\n",
      "'Skills'\n",
      "'Interests'\n",
      "'Awards'\n",
      "'name@email.com'\n",
      "'\\n          '\n",
      "'\\n          '\n",
      "'\\n          '\n",
      "'\\n          '\n",
      "''\n"
     ]
    }
   ],
   "source": [
    "# okay, here's a loop over everything so far\n",
    "# (note: `repr` is a built-in function that shows whitespace more clearly)\n",
    "for segment in split_string:\n",
    "    greater_than_index = segment.rfind(\">\")\n",
    "    print(repr(segment[greater_than_index+1:]))"
   ]
  },
  {
   "cell_type": "code",
   "execution_count": 10,
   "metadata": {},
   "outputs": [
    {
     "name": "stdout",
     "output_type": "stream",
     "text": [
      "'About'\n",
      "'Experience'\n",
      "'Education'\n",
      "'Skills'\n",
      "'Interests'\n",
      "'Awards'\n",
      "'name@email.com'\n"
     ]
    }
   ],
   "source": [
    "# great, that gets the links we wanted, but also some extra stuff\n",
    "# let's do some cleanup, remove the links that only contain whitespace\n",
    "for segment in split_string:\n",
    "    greater_than_index = segment.rfind(\">\")\n",
    "    content = segment[greater_than_index+1:]\n",
    "    content = content.strip()\n",
    "    if len(content) > 0:\n",
    "        print(repr(content))"
   ]
  },
  {
   "cell_type": "code",
   "execution_count": 11,
   "metadata": {},
   "outputs": [
    {
     "name": "stdout",
     "output_type": "stream",
     "text": [
      "'About'\n",
      "'Experience'\n",
      "'Education'\n",
      "'Skills'\n",
      "'Interests'\n",
      "'Awards'\n"
     ]
    }
   ],
   "source": [
    "# we still have this pesky email link\n",
    "# maybe we get rid of it with a hack like this\n",
    "for segment in split_string:\n",
    "    greater_than_index = segment.rfind(\">\")\n",
    "    content = segment[greater_than_index+1:]\n",
    "    content = content.strip()\n",
    "    if len(content) > 0 and \"@\" not in content:\n",
    "        print(repr(content))"
   ]
  },
  {
   "cell_type": "markdown",
   "metadata": {},
   "source": [
    "That approach was annoying, and fairly brittle.  What happens if they add another `a` tag that's not in the nav bar, but also doesn't contain an `@`?"
   ]
  },
  {
   "cell_type": "markdown",
   "metadata": {},
   "source": [
    "## The much easier way, with BeautifulSoup\n",
    "BeautifulSoup allows you to use a CSS selector to choose exactly the elements you're trying to target\n",
    "\n",
    "### CSS Selector Rules\n",
    " - Start with HTML element type (e.g. `div`, `li`, `p`)\n",
    " - If you only want elements with a particular class, add a `.` then the class name  (e.g. `div.header-content`)\n",
    " - If you only want elements with a particular id, add a `#` then the id name (e.g. `div#contact-list`)\n",
    " - You can stack more than one selector at a time.  For example, if you want to select only `p` tags that are inside of `li` tags with class `addresses`, that would look like `li.addresses p`"
   ]
  },
  {
   "cell_type": "code",
   "execution_count": 12,
   "metadata": {},
   "outputs": [],
   "source": [
    "# you might need to run `conda install beautifulsoup4` for this to work\n",
    "from bs4 import BeautifulSoup"
   ]
  },
  {
   "cell_type": "code",
   "execution_count": 13,
   "metadata": {},
   "outputs": [],
   "source": [
    "# Make a \"soup\" object out of the html string\n",
    "css_soup = BeautifulSoup(html_string)"
   ]
  },
  {
   "cell_type": "code",
   "execution_count": 14,
   "metadata": {},
   "outputs": [],
   "source": [
    "# Select the list of elements that match our query\n",
    "# In this case, it's \"`a` tags with class `nav-link`\"\n",
    "nav_links = css_soup.select(\"a.nav-link\")"
   ]
  },
  {
   "cell_type": "code",
   "execution_count": 15,
   "metadata": {},
   "outputs": [],
   "source": [
    "# Exploring what we got back\n",
    "first_link = nav_links[0]\n",
    "first_link?"
   ]
  },
  {
   "cell_type": "code",
   "execution_count": 16,
   "metadata": {},
   "outputs": [
    {
     "data": {
      "text/plain": [
       "['About']"
      ]
     },
     "execution_count": 16,
     "metadata": {},
     "output_type": "execute_result"
    }
   ],
   "source": [
    "first_link.contents"
   ]
  },
  {
   "cell_type": "code",
   "execution_count": 17,
   "metadata": {},
   "outputs": [
    {
     "name": "stdout",
     "output_type": "stream",
     "text": [
      "About\n",
      "Experience\n",
      "Education\n",
      "Skills\n",
      "Interests\n",
      "Awards\n"
     ]
    }
   ],
   "source": [
    "# Loop over the links and print their contents\n",
    "for link in nav_links:\n",
    "    # HTML tags can contain more than one thing, but these ones only contain a single piece of text\n",
    "    print(link.contents[0])"
   ]
  },
  {
   "cell_type": "markdown",
   "metadata": {},
   "source": [
    "...and that's it!  Much faster and cleaner!  It avoided selecting any of the other `a` tags from the get-go, and it will continue to work if the site owner decides to put an `@` in the nav links for some reason"
   ]
  }
 ],
 "metadata": {
  "kernelspec": {
   "display_name": "Python 3",
   "language": "python",
   "name": "python3"
  },
  "language_info": {
   "codemirror_mode": {
    "name": "ipython",
    "version": 3
   },
   "file_extension": ".py",
   "mimetype": "text/x-python",
   "name": "python",
   "nbconvert_exporter": "python",
   "pygments_lexer": "ipython3",
   "version": "3.7.3"
  }
 },
 "nbformat": 4,
 "nbformat_minor": 2
}
